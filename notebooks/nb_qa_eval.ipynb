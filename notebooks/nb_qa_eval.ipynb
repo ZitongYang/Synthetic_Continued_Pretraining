{
 "cells": [
  {
   "cell_type": "code",
   "execution_count": 1,
   "metadata": {},
   "outputs": [
    {
     "name": "stdout",
     "output_type": "stream",
     "text": [
      "Current working directory: /mnt/task_runtime/knowledge_adaptation\n"
     ]
    }
   ],
   "source": [
    "import os\n",
    "os.chdir(os.path.dirname(os.getcwd()))\n",
    "print(f\"Current working directory: {os.getcwd()}\")\n",
    "\n",
    "from tasks.quality import QuALITY\n",
    "from utils.io_utils import round_dict_values, flatten_dict"
   ]
  },
  {
   "cell_type": "code",
   "execution_count": 2,
   "metadata": {},
   "outputs": [
    {
     "name": "stdout",
     "output_type": "stream",
     "text": [
      "test_overall_acc 0.5638\n",
      "test_hard_acc 0.4775\n",
      "test_non_hard_accuracy_mean 0.6508\n"
     ]
    }
   ],
   "source": [
    "quality = QuALITY('all')\n",
    "quality.load_attempts_json(f'out/qualityqa-quality-lr5e-06-rr0.1-epochs2-bs16-wd0.01-warmup0.05-MetaLlama38B.json')\n",
    "quality.majority_vote(n_samples=1)\n",
    "result = flatten_dict(round_dict_values(quality.performance_stats()))\n",
    "print(\"test_overall_acc\", result['test_overall_accuracy_mean'])\n",
    "print(\"test_hard_acc\", result['test_hard_accuracy_mean'])\n",
    "print(\"test_non_hard_accuracy_mean\", result['test_non_hard_accuracy_mean'])"
   ]
  },
  {
   "cell_type": "code",
   "execution_count": null,
   "metadata": {},
   "outputs": [],
   "source": []
  }
 ],
 "metadata": {
  "kernelspec": {
   "display_name": "p310",
   "language": "python",
   "name": "python3"
  },
  "language_info": {
   "codemirror_mode": {
    "name": "ipython",
    "version": 3
   },
   "file_extension": ".py",
   "mimetype": "text/x-python",
   "name": "python",
   "nbconvert_exporter": "python",
   "pygments_lexer": "ipython3",
   "version": "3.10.12"
  },
  "orig_nbformat": 4
 },
 "nbformat": 4,
 "nbformat_minor": 2
}
